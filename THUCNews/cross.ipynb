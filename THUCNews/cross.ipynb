{
 "cells": [
  {
   "cell_type": "code",
   "execution_count": 8,
   "metadata": {
    "collapsed": true,
    "ExecuteTime": {
     "end_time": "2023-12-01T00:52:31.121905700Z",
     "start_time": "2023-12-01T00:52:31.018813Z"
    }
   },
   "outputs": [],
   "source": [
    "import csv\n",
    "\n",
    "id = []\n",
    "pred = []\n",
    "\n",
    "dic = dict()\n",
    "for i in range(10):\n",
    "    index = 0\n",
    "    flag = True\n",
    "    with open(\"./1\"+'.csv', 'r', encoding='utf-8') as f:\n",
    "        csv_reader = csv.reader(f)\n",
    "        for row in csv_reader:\n",
    "            if flag:\n",
    "                flag = False\n",
    "                continue\n",
    "            if i == 0:\n",
    "                id.append(row[0])\n",
    "                pred.append([row[1]])\n",
    "            else:\n",
    "                if id[index] == row[0]:\n",
    "                    pred[index].append(row[1])\n",
    "                else: print(\"error\")\n",
    "            index += 1"
   ]
  },
  {
   "cell_type": "code",
   "execution_count": 11,
   "outputs": [],
   "source": [
    "import csv\n",
    "data = []\n",
    "\n",
    "for i in range(len(id)):\n",
    "    li = pred[i]\n",
    "    p = max(li, key=li.count)\n",
    "    data.append([id[i], p])\n",
    "\n",
    "\n",
    "with open('../submit.csv', \"a\", encoding='utf-8', newline='') as csvfile:\n",
    "    writer = csv.writer(csvfile)\n",
    "    for row in data:\n",
    "        writer.writerow(row)\n"
   ],
   "metadata": {
    "collapsed": false,
    "ExecuteTime": {
     "end_time": "2023-12-01T00:55:31.187326600Z",
     "start_time": "2023-12-01T00:55:31.139533600Z"
    }
   }
  },
  {
   "cell_type": "code",
   "execution_count": null,
   "outputs": [],
   "source": [],
   "metadata": {
    "collapsed": false
   }
  }
 ],
 "metadata": {
  "kernelspec": {
   "display_name": "Python 3",
   "language": "python",
   "name": "python3"
  },
  "language_info": {
   "codemirror_mode": {
    "name": "ipython",
    "version": 2
   },
   "file_extension": ".py",
   "mimetype": "text/x-python",
   "name": "python",
   "nbconvert_exporter": "python",
   "pygments_lexer": "ipython2",
   "version": "2.7.6"
  }
 },
 "nbformat": 4,
 "nbformat_minor": 0
}
